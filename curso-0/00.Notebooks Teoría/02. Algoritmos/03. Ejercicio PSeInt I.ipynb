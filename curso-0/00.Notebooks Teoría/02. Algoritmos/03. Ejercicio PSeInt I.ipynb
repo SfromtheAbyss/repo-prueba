{
 "cells": [
  {
   "cell_type": "markdown",
   "id": "59d5dee3-3126-4aec-9589-f87699405189",
   "metadata": {},
   "source": [
   ]
  },
  {
   "cell_type": "markdown",
   "id": "f2541aa4-ba39-4ced-9c3f-c763cfb2e43c",
   "metadata": {},
   "source": [
    "## Ejercicio del Cajero Automático\n",
    "\n",
    "En los cajeros automáticos, cuando un usuario realiza un retiro de dinero, el sistema debe entregar la cantidad solicitada de manera eficiente, utilizando la menor cantidad de billetes y monedas posible.\n",
    "\n",
    "El problema consiste en desarrollar un algoritmo que reciba como entrada una cantidad de dinero a retirar (un número **n**), verifique si hay saldo suficiente y determine la combinación óptima de billetes y monedas para entregar el monto solicitado. Para ello, se utilizarán denominaciones estándar de billetes y monedas, priorizando siempre los valores más altos primero.\n",
    "\n",
    "Valores de billetes y monedas:\n",
    "- **Billetes**: 500€, 200€, 100€, 50€, 20€, 10€, 5€.\n",
    "- **Monedas**: 2€, 1€.\n",
    "\n",
    "### Pasos a seguir\n",
    "\n",
    "1. Abre **PSeInt** en tu ordenador.\n",
    "2. Crea un nuevo algoritmo con el nombre _**CajeroAutomatico**_.\n",
    "3. Escribe un algoritmo que solicite al usuario ingresar un número entero. (Asumimos que el número será mayor a 0).\n",
    "4. Determina el número de billetes y monedas a usar usando un bucle y el operador de modulo.\n",
    "5. Muestra el resultado en pantalla con un mensaje indicando la cantidad de billetes y monedas a usar.\n",
    "6. Guarda y ejecuta el programa para verificar que funciona correctamente.\n",
    "7. Prueba el programa ingresando diferentes valores para comprobar que funciona correctamente.\n",
    "\n",
    "### Ejemplo:\n",
    "\n",
    "Si el usuario retira **786€,** el cajero entregará:\n",
    "- 1 billete de 500€\n",
    "- 1 billete de 200€\n",
    "- 0 billetes de 100€\n",
    "- 1 billete de 50€\n",
    "- 1 billete de 20€\n",
    "- 1 billete de 10€\n",
    "- 1 billete de 5€\n",
    "- 0 moneda de 2€\n",
    "- 1 moneda de 1€"
   ]
  },
  {
   "cell_type": "code",
   "execution_count": null,
   "id": "3c1189d8-1c19-416a-9351-c0c895738cc0",
   "metadata": {},
   "outputs": [],
   "source": []
  },
  {
   "cell_type": "code",
   "execution_count": null,
   "id": "54d73e33-331c-41ae-b20f-01cb455159d6",
   "metadata": {},
   "outputs": [],
   "source": [
    "##############################################################################################################################"
   ]
  }
 ],
 "metadata": {
  "kernelspec": {
   "display_name": "Python 3 (ipykernel)",
   "language": "python",
   "name": "python3"
  },
  "language_info": {
   "codemirror_mode": {
    "name": "ipython",
    "version": 3
   },
   "file_extension": ".py",
   "mimetype": "text/x-python",
   "name": "python",
   "nbconvert_exporter": "python",
   "pygments_lexer": "ipython3",
   "version": "3.11.7"
  }
 },
 "nbformat": 4,
 "nbformat_minor": 5
}
