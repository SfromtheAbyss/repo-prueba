{
 "cells": [
  {
   "cell_type": "markdown",
   "id": "cb91cdaf-c6a4-47fd-8716-7fb32240f30a",
   "metadata": {},
   "source": [
    "## Práctica Guiada\n",
    "\n",
    "Ahora que sabemos cómo interactuar los con archivos y directorios en la terminal, vamos a aprender algunos comandos extras para crear, modificar y gestionar archivos y directorios.\n",
    "\n",
    "|Comando|Significado                       |Función                                                                |\n",
    "|-------|----------------------------------|-----------------------------------------------------------------------|\n",
    "|pwd    |**p**rint **w**orking **d**irctory|Mostrar la ruta del directorio actual.                                 |\n",
    "|ls     |**l**i**s**t                      |Listar archivos y directorios.                                         |\n",
    "|cd     |**c**hange **d**irectory          |Cambiar de directorio.                                                 |\n",
    "|mkdir  |**m**a**k**e **dir**ectory        |Crear un directorio vacío.                                             |\n",
    "|rmdir  |**r**e**m**ove **dir**ectory      |Eliminar un directorio vacío.                                          |\n",
    "|touch  |?                                 |Crear un archivo vacío.                                                |\n",
    "|cp     |**c**o**p**y                      |Copiar un archivo.                                                     |\n",
    "|mv     |**m**o**v**e                      |Cambia de ubicación un archivo, también se usa para renombrar archivos.|\n",
    "|rm     |**r**e**m**ove                    |Elimina un archivo.                                                    |"
   ]
  },
  {
   "cell_type": "markdown",
   "id": "5edeff45-4eeb-452b-acd2-c1bb02db5a63",
   "metadata": {},
   "source": [
    "**Realizaremos esta práctica en este directorio, es decir, debemos abrir una terminal y cambiar la ubicación hasta llegar a la misma ubicación de este notebook (_Directorio: 01.Terminal_).**"
   ]
  },
  {
   "cell_type": "markdown",
   "id": "2e8c1516-36c8-474f-863c-8fdce133d48f",
   "metadata": {},
   "source": [
    "1. **Crear directorio**:\n",
    "```\n",
    "mkdir ./nueva_carpeta\n",
    "```\n",
    "2. **Cambiar de ubicación a la nueva carpeta**:\n",
    "```\n",
    "cd ./nueva_carpeta\n",
    "```\n",
    "3. **Crear un archivo vacío**: \n",
    "```\n",
    "touch ./archivo.txt\n",
    "```\n",
    "4. **Mostrar los archivos del directorio**:\n",
    "```\n",
    "ls\n",
    "```\n",
    "**Nota: Si quieres crear varios dirctorios al mismo tiempo:**\n",
    "```\n",
    "mkdir ./carpeta1 ./carpeta2 ./carpeta3\n",
    "```\n",
    "**Nota: Si quieres crear una estructura de directorios anidados:**\n",
    "```\n",
    "mkdir -p ./proyecto/src/utils\n",
    "```\n",
    "5. **Copiar Archivos y Directorios:** Para copiar un archivo/directorio usamos el comando `cp` y escribimos el nombre del archivo que queremos copiar y el nombre que se le asignará a la copia:\n",
    "```\n",
    "cp ./archivo.txt ./archivo_copia.txt\n",
    "```\n",
    "6. **Nos movemos a la carpeta anterior:**\n",
    "```\n",
    "cd ..\n",
    "```\n",
    "7. **Copiar un directorio:**\n",
    "```\n",
    "cp -r ./nueva_carpeta ./copia_carpeta\n",
    "```\n",
    "8. **Mover y renombrar archivos:** Para mover/renombrar archivos usamos el comando `mv`. Para renombrar escribimos el nombre del archivo al que queremos cambiar de nombre y el nuevo nombre que tendrá. Para mover un archivo escribimos el nombre del archivo y la ubicación al que queremos moverlo.\n",
    "\n",
    "**Creamos un nuevo archivo para usar de ejemplo:**\n",
    "```\n",
    "touch ./archivo_nuevo.txt\n",
    "```\n",
    "**Cambiar nombre: Se escriben los nombres de los archivos con las extensiones**\n",
    "```\n",
    "mv ./archivo_nuevo.txt ./documento.txt\n",
    "```\n",
    "**Mover archivo: Se escribe el nombre del archivo y la ruta (absoluta o relativa) del directorio**\n",
    "```\n",
    "mv ./documento.txt ./nueva_carpeta/\n",
    "```\n",
    "9. **Navegación con `cd` y `ls` con rutas**: Podemos movernos directamente a una ubicación específica usando `cd`, además de ir \"paso a paso\" como en los ejemplos anteriores, se puede hacer con rutas absolutas o relativas. \n",
    "```\n",
    "cd ./proyecto/src/utils\n",
    "```\n",
    "10. **Si quisieramos ver el contenido de un directorio sin tener que movernos al directorio podemos escribir el comando `ls` y la ruta del directorio que queramos ver:**\n",
    "```\n",
    "ls ./proyecto/src/utils\n",
    "```\n",
    "11. **Eliminar archivos y directorios:** Para eliminar un archivo o directorio usamos el comando `rm`. Para directorios añadimos el parámetro `-r` para diferenciarlo de un archivo. Otra opción puede ser usar `rmdir` para eliminar directorios.\n",
    "**Eliminamos el archivo `documento.txt`**\n",
    "```\n",
    "rm ./documento.txt\n",
    "``` \n",
    "**Eliminamos el directorio `./copia_carpeta`**\n",
    "```\n",
    "rm -r ./copia_carpeta\n",
    "```\n",
    "**Nota: Los archivos eliminados con `rm` no van a la papelera, desaparecen permanentemente.**"
   ]
  },
  {
   "cell_type": "code",
   "execution_count": null,
   "id": "e41ca514-c579-49ce-afcb-6b8ece0026d5",
   "metadata": {},
   "outputs": [],
   "source": [
    "##############################################################################################################################"
   ]
  }
 ],
 "metadata": {
  "kernelspec": {
   "display_name": "Python 3 (ipykernel)",
   "language": "python",
   "name": "python3"
  },
  "language_info": {
   "codemirror_mode": {
    "name": "ipython",
    "version": 3
   },
   "file_extension": ".py",
   "mimetype": "text/x-python",
   "name": "python",
   "nbconvert_exporter": "python",
   "pygments_lexer": "ipython3",
   "version": "3.11.7"
  }
 },
 "nbformat": 4,
 "nbformat_minor": 5
}
