{
 "cells": [
  {
   "cell_type": "markdown",
   "id": "c6236b49-7dde-45bc-adfb-b0c238921ab9",
   "metadata": {},
   "source": [
    "## Terminal y Git Bash\n",
    "\n",
    "El **terminal** es una herramienta para interactuar con el sistema operativo mediante comandos. Su principal uso es el de gestionar archivos y programas sin usar una interfaz gráfica.\n",
    "\n",
    "Cuando abres el terminal, este siempre comienza en un directorio determinado de tu ordenador. **El terminal siempre trabaja dentro de un directorio, aunque no se vea directamente en la pantalla**\n",
    "\n",
    "-  **Windows (Git Bash)**: Se abrirá en `C:\\Users\\tu-usuario`, que es tu carpeta de usuario.\n",
    "-  **Mac**: Se abrirá en `/Users/tu-usuario`, que es la carpeta equivalente en macOS."
   ]
  },
  {
   "cell_type": "markdown",
   "id": "5e40e82d-54dd-46cb-9918-fec66a7eb150",
   "metadata": {},
   "source": [
    "### PowerShell y Git Bash en Windows\n",
    "\n",
    "**Windows** tiene su propia terminal llamada **PowerShell**, pero funciona de manera diferente a las terminales de **Mac** y **Linux**. \n",
    "\n",
    "En este curso utilizaremos comandos de terminal similares a los de sistemas **Unix** (**Linux** y **Mac**), por eso debemos tener  **Git Bash** en **Windows**:\n",
    "\n",
    "- Soporta los mismos comandos que en **Linux** y **Mac**.\n",
    "- Usa la barra `/` en las rutas en lugar de `\\`, lo que evita confusión al trabajar con múltiples sistemas.\n",
    "- Permite utilizar herramientas como `ls`, `pwd`, y `cd` de la misma manera en cualquier sistema operativo.\n",
    "\n",
    "**Descargar Git Bash**: _https://gitforwindows.org/_"
   ]
  },
  {
   "cell_type": "code",
   "execution_count": null,
   "id": "d38e64b4-957c-4ba8-9f60-313c66ff9dc5",
   "metadata": {},
   "outputs": [],
   "source": [
    "##############################################################################################################################"
   ]
  }
 ],
 "metadata": {
  "kernelspec": {
   "display_name": "Python 3 (ipykernel)",
   "language": "python",
   "name": "python3"
  },
  "language_info": {
   "codemirror_mode": {
    "name": "ipython",
    "version": 3
   },
   "file_extension": ".py",
   "mimetype": "text/x-python",
   "name": "python",
   "nbconvert_exporter": "python",
   "pygments_lexer": "ipython3",
   "version": "3.11.7"
  }
 },
 "nbformat": 4,
 "nbformat_minor": 5
}
